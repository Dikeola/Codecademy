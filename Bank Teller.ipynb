{
 "cells": [
  {
   "cell_type": "markdown",
   "id": "e33ca62c-7615-48ae-ae90-5aac5150d7e2",
   "metadata": {},
   "source": [
    "Bank Teller"
   ]
  },
  {
   "cell_type": "markdown",
   "id": "005018bb-0be4-4778-852c-6dff0f66ccf5",
   "metadata": {},
   "source": [
    "In this project, I will make a system that emulates the transactions that are carried out by either a bank teller or an ATM machine. I will utilize entry-level Python syntax, operands and concepts to implement the following five features:\n",
    "\n",
    "Return the balance that the customer has in the bank\n",
    "Allow the customer to make a deposit to their bank account\n",
    "Allow the customer to make a withdrawal to their bank account\n",
    "Allow the customer to decide whether to make the transaction with checking or savings account\n",
    "Allow the customer to make a transfer between savings and checking account"
   ]
  },
  {
   "cell_type": "code",
   "execution_count": 36,
   "id": "691e7827-b512-444f-aef5-42ed906fafa2",
   "metadata": {},
   "outputs": [
    {
     "name": "stdin",
     "output_type": "stream",
     "text": [
      "Savings or Checking account:  Savings\n",
      "Savings or Checking account:  Checking\n"
     ]
    }
   ],
   "source": [
    "class Acc():\n",
    "    def __init__(self,name,bal):\n",
    "        self.type = input('Savings or Checking account: ')#request type of account to be created\n",
    "        self.name = name\n",
    "        self.bal=bal\n",
    "        if self.type == 'Savings':\n",
    "            self.bal_savings = bal\n",
    "        else:\n",
    "            self.bal_checking = bal\n",
    "    def get_balance(self):#return amount stored in the account\n",
    "        if self.type=='Savings':\n",
    "            return self.bal_savings\n",
    "        else:\n",
    "            return self.bal_checking\n",
    "    def deposit(self,amount):#make a deposit into the account\n",
    "        self.type2 = input(f'Deposit into {self.name}\\'s Savings or Checking account: ')\n",
    "        if self.type2 == 'Savings' and self.type == 'Savings':#If account to be deposited into exists\n",
    "            self.bal_savings+=amount\n",
    "        elif self.type2 == 'Checking' and self.type == 'Checking':\n",
    "            self.bal_checking+=amount\n",
    "        else:\n",
    "            print('You dont have this type of account.')\n",
    "    def withdraw(self,amount):#Withdraw from the account\n",
    "        self.type2 = input(f'Withdraw from {self.name}\\'s Savings or Checking account: ')\n",
    "        if amount<self.bal:\n",
    "            if self.type2 == 'Savings' and self.type == 'Savings':#if account to be withdrawn from exists\n",
    "                self.bal_savings-=amount\n",
    "                print(f'The remaining balance is {self.bal_savings}')\n",
    "            elif self.type2 == 'Checking' and self.type == 'Checking':\n",
    "                self.bal_checking-=amount\n",
    "                print(f'The remaining balance is {self.bal_checking}')\n",
    "            else:\n",
    "                print('You dont have this type of account.')\n",
    "        else:\n",
    "            print('Insufficient Funds.')\n",
    "        \n",
    "    def transfer(self,amount,user):#Transfer to another account\n",
    "        self.type2 = input(f'Transfer from {self.name}\\'s Savings or Checking account to {user.name}: ')\n",
    "        if amount<self.bal:\n",
    "            if self.type == 'Savings' and self.type2=='Savings':#if account to be transferred from exists\n",
    "                self.bal_savings-=amount\n",
    "                print(f'The remaining balance is {self.bal_savings}')\n",
    "            elif self.type == 'Checking' and self.type2 == 'Checking':\n",
    "                self.bal_checking -= amount\n",
    "                print(f'The remaining balance is {self.bal_checking}')\n",
    "            else:\n",
    "                print('You dont have this type of account.')\n",
    "        else:\n",
    "            print('Insufficient Funds.')\n",
    "        user.deposit(amount)#Perform the transfer using the deposit function\n",
    "first = Acc('Dike',100000)\n",
    "sec = Acc('Ike',1000)"
   ]
  },
  {
   "cell_type": "code",
   "execution_count": 31,
   "id": "782129c1-023c-44fb-813b-5535cfaf9731",
   "metadata": {},
   "outputs": [
    {
     "name": "stdin",
     "output_type": "stream",
     "text": [
      "Withdraw from Dike's Savings or Checking account:  Checking\n"
     ]
    },
    {
     "name": "stdout",
     "output_type": "stream",
     "text": [
      "You dont have this type of account.\n"
     ]
    }
   ],
   "source": [
    "first.withdraw(100)"
   ]
  },
  {
   "cell_type": "code",
   "execution_count": 32,
   "id": "828e3921-f3fd-4508-b392-fd3a06a0db55",
   "metadata": {},
   "outputs": [
    {
     "name": "stdin",
     "output_type": "stream",
     "text": [
      "Withdraw from Ike's Savings or Checking account:  Savings\n"
     ]
    },
    {
     "name": "stdout",
     "output_type": "stream",
     "text": [
      "You dont have this type of account.\n"
     ]
    }
   ],
   "source": [
    "sec.withdraw(100)"
   ]
  },
  {
   "cell_type": "code",
   "execution_count": 33,
   "id": "01a98a84-8b94-4c34-ab8a-6990f8e8d59d",
   "metadata": {},
   "outputs": [
    {
     "name": "stdin",
     "output_type": "stream",
     "text": [
      "Withdraw from Ike's Savings or Checking account:  Checking\n"
     ]
    },
    {
     "name": "stdout",
     "output_type": "stream",
     "text": [
      "The remaining balance is 990\n"
     ]
    }
   ],
   "source": [
    "sec.withdraw(10)"
   ]
  },
  {
   "cell_type": "code",
   "execution_count": 34,
   "id": "e525be1b-bf88-477b-be6a-72bb48c27b50",
   "metadata": {
    "scrolled": true
   },
   "outputs": [
    {
     "name": "stdin",
     "output_type": "stream",
     "text": [
      "Transfer from Ike's Savings or Checking account to Dike:  Checking\n"
     ]
    },
    {
     "name": "stdout",
     "output_type": "stream",
     "text": [
      "The remaining balance is 890\n"
     ]
    },
    {
     "name": "stdin",
     "output_type": "stream",
     "text": [
      "Deposit into Dike's Savings or Checking account:  Savings\n"
     ]
    }
   ],
   "source": [
    "sec.transfer(100,first)"
   ]
  },
  {
   "cell_type": "code",
   "execution_count": 35,
   "id": "2ac9e604-27d4-4042-8e8c-744944a184df",
   "metadata": {},
   "outputs": [
    {
     "data": {
      "text/plain": [
       "100100"
      ]
     },
     "execution_count": 35,
     "metadata": {},
     "output_type": "execute_result"
    }
   ],
   "source": [
    "first.get_balance()"
   ]
  }
 ],
 "metadata": {
  "kernelspec": {
   "display_name": "Python 3 (ipykernel)",
   "language": "python",
   "name": "python3"
  },
  "language_info": {
   "codemirror_mode": {
    "name": "ipython",
    "version": 3
   },
   "file_extension": ".py",
   "mimetype": "text/x-python",
   "name": "python",
   "nbconvert_exporter": "python",
   "pygments_lexer": "ipython3",
   "version": "3.12.0"
  }
 },
 "nbformat": 4,
 "nbformat_minor": 5
}
